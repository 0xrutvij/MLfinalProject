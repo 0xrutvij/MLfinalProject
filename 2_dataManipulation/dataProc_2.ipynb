{
 "metadata": {
  "language_info": {
   "codemirror_mode": {
    "name": "ipython",
    "version": 3
   },
   "file_extension": ".py",
   "mimetype": "text/x-python",
   "name": "python",
   "nbconvert_exporter": "python",
   "pygments_lexer": "ipython3",
   "version": "3.9.4"
  },
  "orig_nbformat": 2,
  "kernelspec": {
   "name": "python394jvsc74a57bd0aee8b7b246df8f9039afb4144a1f6fd8d2ca17a180786b69acc140d282b71a49",
   "display_name": "Python 3.9.4 64-bit"
  },
  "metadata": {
   "interpreter": {
    "hash": "aee8b7b246df8f9039afb4144a1f6fd8d2ca17a180786b69acc140d282b71a49"
   }
  }
 },
 "nbformat": 4,
 "nbformat_minor": 2,
 "cells": [
  {
   "cell_type": "code",
   "execution_count": 8,
   "metadata": {},
   "outputs": [
    {
     "output_type": "stream",
     "name": "stdout",
     "text": [
      "Index(['Unnamed: 0', 'contactType', 'classScore', 'deviceContacted', 'counter',\n       'delay', 'deviceDelay', 'serverDelay'],\n      dtype='object')\n"
     ]
    },
    {
     "output_type": "display_data",
     "data": {
      "text/plain": "   contactType  classScore  deviceContacted  counter  delay  deviceDelay  \\\n0            0          91                1        3      2          691   \n1            0          26                3        3      2          682   \n2            0         147                0        3      0          636   \n3            0          26                0        3      0          626   \n4            0          26                3        3      0          617   \n\n   serverDelay  \n0          653  \n1          644  \n2          636  \n3          626  \n4          617  ",
      "text/html": "<div>\n<style scoped>\n    .dataframe tbody tr th:only-of-type {\n        vertical-align: middle;\n    }\n\n    .dataframe tbody tr th {\n        vertical-align: top;\n    }\n\n    .dataframe thead th {\n        text-align: right;\n    }\n</style>\n<table border=\"1\" class=\"dataframe\">\n  <thead>\n    <tr style=\"text-align: right;\">\n      <th></th>\n      <th>contactType</th>\n      <th>classScore</th>\n      <th>deviceContacted</th>\n      <th>counter</th>\n      <th>delay</th>\n      <th>deviceDelay</th>\n      <th>serverDelay</th>\n    </tr>\n  </thead>\n  <tbody>\n    <tr>\n      <th>0</th>\n      <td>0</td>\n      <td>91</td>\n      <td>1</td>\n      <td>3</td>\n      <td>2</td>\n      <td>691</td>\n      <td>653</td>\n    </tr>\n    <tr>\n      <th>1</th>\n      <td>0</td>\n      <td>26</td>\n      <td>3</td>\n      <td>3</td>\n      <td>2</td>\n      <td>682</td>\n      <td>644</td>\n    </tr>\n    <tr>\n      <th>2</th>\n      <td>0</td>\n      <td>147</td>\n      <td>0</td>\n      <td>3</td>\n      <td>0</td>\n      <td>636</td>\n      <td>636</td>\n    </tr>\n    <tr>\n      <th>3</th>\n      <td>0</td>\n      <td>26</td>\n      <td>0</td>\n      <td>3</td>\n      <td>0</td>\n      <td>626</td>\n      <td>626</td>\n    </tr>\n    <tr>\n      <th>4</th>\n      <td>0</td>\n      <td>26</td>\n      <td>3</td>\n      <td>3</td>\n      <td>0</td>\n      <td>617</td>\n      <td>617</td>\n    </tr>\n  </tbody>\n</table>\n</div>"
     },
     "metadata": {}
    }
   ],
   "source": [
    "import pandas as pd\n",
    "import numpy as np\n",
    "\n",
    "df = pd.read_csv('../3_processedData/aggregatedAndProcessed.csv')\n",
    "df.rename(columns={\n",
    "\"contact_type\":\"contactType\",\n",
    "\"contact_class_score_diff\": \"classScore\", \n",
    "\"contact_id\": \"deviceContacted\", \n",
    "\"msg_delay_stamps\":\"serverDelay\", \n",
    "\"msg_delay\":\"deviceDelay\"}, inplace=True)\n",
    "df.drop('Unnamed: 0', axis=1, inplace=True)\n",
    "display(df.head())"
   ]
  },
  {
   "cell_type": "code",
   "execution_count": null,
   "metadata": {},
   "outputs": [],
   "source": []
  }
 ]
}